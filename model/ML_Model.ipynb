{
  "nbformat": 4,
  "nbformat_minor": 2,
  "metadata": {
    "colab": {
      "name": "ML Model.ipynb",
      "provenance": []
    },
    "kernelspec": {
      "name": "python3",
      "display_name": "Python 3.9.6 64-bit"
    },
    "language_info": {
      "name": "python",
      "version": "3.9.6",
      "mimetype": "text/x-python",
      "codemirror_mode": {
        "name": "ipython",
        "version": 3
      },
      "pygments_lexer": "ipython3",
      "nbconvert_exporter": "python",
      "file_extension": ".py"
    },
    "interpreter": {
      "hash": "aee8b7b246df8f9039afb4144a1f6fd8d2ca17a180786b69acc140d282b71a49"
    }
  },
  "cells": [
    {
      "cell_type": "markdown",
      "source": [
        "# BeemaBot Model Training"
      ],
      "metadata": {}
    },
    {
      "cell_type": "code",
      "execution_count": 2,
      "source": [
        "import nltk\n",
        "from nltk.corpus import wordnet as wn\n",
        "from nltk.stem.wordnet import WordNetLemmatizer\n",
        "import numpy as np\n",
        "from tensorflow.keras.models import Sequential\n",
        "from keras.layers import Dense, Activation, Dropout\n",
        "from tensorflow.keras.optimizers import SGD\n",
        "import pandas as pd\n",
        "import pickle\n",
        "import random\n",
        "import json\n",
        "import csv"
      ],
      "outputs": [],
      "metadata": {
        "colab": {
          "base_uri": "https://localhost:8080/"
        },
        "id": "mbfPmRhuX5zA",
        "outputId": "08c8accc-c57b-4332-adaa-3f0ccc53a603"
      }
    },
    {
      "cell_type": "markdown",
      "source": [
        "### Importing our dataset"
      ],
      "metadata": {
        "id": "xmdy5hqueVQg"
      }
    },
    {
      "cell_type": "code",
      "execution_count": 3,
      "source": [
        "with open('intents.json') as json_data:\n",
        "    intents = json.load(json_data)"
      ],
      "outputs": [],
      "metadata": {
        "id": "3lp6m8ltYKjj"
      }
    },
    {
      "cell_type": "markdown",
      "source": [
        "### Bulding our list of words, classes and words to tags mapping(documents)"
      ],
      "metadata": {
        "id": "akFF6gfpfT6A"
      }
    },
    {
      "cell_type": "code",
      "execution_count": 4,
      "source": [
        "words = []\n",
        "classes = []\n",
        "documents = []\n",
        "ignore_words = ['?',',','.']\n",
        "\n",
        "for intent in intents['intents']:\n",
        "    for pattern in intent['patterns']:\n",
        "        w = nltk.word_tokenize(pattern)\n",
        "        # add to our words list\n",
        "        words.extend(w)\n",
        "        # add to documents in our corpus\n",
        "        documents.append((w, intent['tag']))\n",
        "        if intent['tag'] not in classes:\n",
        "            classes.append(intent['tag'])\n",
        "\n",
        "# lemmatize and lower each word\n",
        "lemma_function = WordNetLemmatizer()\n",
        "words = [lemma_function.lemmatize(w.lower()) for w in words if w not in ignore_words]\n",
        "\n",
        "# remove duplicates\n",
        "words = sorted(list(set(words)))\n",
        "# sort classes\n",
        "classes = sorted(list(set(classes)))\n",
        "\n",
        "# words = all words, vocabulary\n",
        "print (len(words), \"lemmatized words\")\n",
        "# documents = combination between patterns and intents\n",
        "print (len(documents), \"word to tag mappings\")\n",
        "# classes = intents\n",
        "print (len(classes), \"classes\")"
      ],
      "outputs": [
        {
          "output_type": "stream",
          "name": "stdout",
          "text": [
            "2934 lemmatized words\n",
            "11130 word to tag mappings\n",
            "175 classes\n"
          ]
        }
      ],
      "metadata": {
        "colab": {
          "base_uri": "https://localhost:8080/"
        },
        "id": "mdIrG8ttYutG",
        "outputId": "6ce0e776-c4b8-4711-ed0c-77c343a16dd4"
      }
    },
    {
      "cell_type": "markdown",
      "source": [
        "### Creating training data from dataset"
      ],
      "metadata": {
        "id": "iMu0rOfEgfUA"
      }
    },
    {
      "cell_type": "code",
      "execution_count": 5,
      "source": [
        "training = []\n",
        "output_empty = [0] * len(classes)\n",
        "\n",
        "# training set, bag of words for each sentence\n",
        "for doc in documents:\n",
        "    bag = []\n",
        "    pattern_words = doc[0]\n",
        "    # lemmatize each word\n",
        "    pattern_words = [lemma_function.lemmatize(word.lower()) for word in pattern_words]\n",
        "    # create our bag of words array with 1, if word match found in current pattern\n",
        "    for w in words:\n",
        "        bag.append(1) if w in pattern_words else bag.append(0)\n",
        "    \n",
        "    # output is a '0' for each tag and '1' for current tag (for each pattern)\n",
        "    output_row = list(output_empty)\n",
        "    output_row[classes.index(doc[1])] = 1\n",
        "    \n",
        "    training.append([bag, output_row])\n",
        "\n",
        "random.shuffle(training)\n",
        "training = np.array(training)\n",
        "\n",
        "train_x = list(training[:,0])\n",
        "train_y = list(training[:,1])"
      ],
      "outputs": [
        {
          "output_type": "stream",
          "name": "stderr",
          "text": [
            "/var/folders/fj/l84qvx552y37ht23spc9y0140000gn/T/ipykernel_87264/1985779988.py:21: VisibleDeprecationWarning: Creating an ndarray from ragged nested sequences (which is a list-or-tuple of lists-or-tuples-or ndarrays with different lengths or shapes) is deprecated. If you meant to do this, you must specify 'dtype=object' when creating the ndarray.\n",
            "  training = np.array(training)\n"
          ]
        }
      ],
      "metadata": {
        "colab": {
          "base_uri": "https://localhost:8080/"
        },
        "id": "Bn_g5CREYxJL",
        "outputId": "1af13465-dda2-4718-e94b-b48b7681705d"
      }
    },
    {
      "cell_type": "markdown",
      "source": [
        "### Building the Neural Network Model"
      ],
      "metadata": {
        "id": "FcTlIjCLiRzl"
      }
    },
    {
      "cell_type": "code",
      "execution_count": 6,
      "source": [
        "# Create model - 3 layers. First layer 128 neurons, second layer 64 neurons and 3rd output layer contains number of neurons\n",
        "# equal to number of intents to predict output intent with softmax\n",
        "# Adding Dropout to avoid overfitting\n",
        "model = Sequential()\n",
        "model.add(Dense(128, input_shape=(len(train_x[0]),), activation='relu'))\n",
        "model.add(Dropout(0.5))\n",
        "model.add(Dense(64, activation='relu'))\n",
        "model.add(Dropout(0.5))\n",
        "model.add(Dense(len(train_y[0]), activation='softmax'))"
      ],
      "outputs": [
        {
          "output_type": "stream",
          "name": "stderr",
          "text": [
            "2021-11-21 01:26:01.454585: I tensorflow/core/platform/cpu_feature_guard.cc:151] This TensorFlow binary is optimized with oneAPI Deep Neural Network Library (oneDNN) to use the following CPU instructions in performance-critical operations:  AVX2 FMA\n",
            "To enable them in other operations, rebuild TensorFlow with the appropriate compiler flags.\n"
          ]
        }
      ],
      "metadata": {
        "id": "AtJe7iR-ZQQj"
      }
    },
    {
      "cell_type": "code",
      "execution_count": 7,
      "source": [
        "# Compile model. Stochastic gradient descent with Nesterov accelerated gradient gives good results for this model\n",
        "sgd = SGD(learning_rate=0.01, decay=1e-6, momentum=0.9, nesterov=True)\n",
        "model.compile(loss='categorical_crossentropy', optimizer=sgd, metrics=['accuracy'])"
      ],
      "outputs": [],
      "metadata": {
        "colab": {
          "base_uri": "https://localhost:8080/"
        },
        "id": "0KZVrl0sZRhY",
        "outputId": "521b8db1-4daa-4367-87be-4bcc237014f3"
      }
    },
    {
      "cell_type": "markdown",
      "source": [
        "### Training the model on training data"
      ],
      "metadata": {
        "id": "_lO73M5lieG1"
      }
    },
    {
      "cell_type": "code",
      "execution_count": 8,
      "source": [
        "model.fit(np.array(train_x), np.array(train_y), epochs=200, batch_size=5, verbose=1)"
      ],
      "outputs": [
        {
          "output_type": "stream",
          "name": "stdout",
          "text": [
            "Epoch 1/200\n",
            "2226/2226 [==============================] - 6s 2ms/step - loss: 3.9420 - accuracy: 0.1351\n",
            "Epoch 2/200\n",
            "2226/2226 [==============================] - 5s 2ms/step - loss: 2.5670 - accuracy: 0.3594\n",
            "Epoch 3/200\n",
            "2226/2226 [==============================] - 5s 2ms/step - loss: 2.1698 - accuracy: 0.4356\n",
            "Epoch 4/200\n",
            "2226/2226 [==============================] - 5s 2ms/step - loss: 2.0285 - accuracy: 0.4792\n",
            "Epoch 5/200\n",
            "2226/2226 [==============================] - 5s 2ms/step - loss: 1.9191 - accuracy: 0.5049\n",
            "Epoch 6/200\n",
            "2226/2226 [==============================] - 5s 2ms/step - loss: 1.8627 - accuracy: 0.5159\n",
            "Epoch 7/200\n",
            "2226/2226 [==============================] - 5s 2ms/step - loss: 1.7881 - accuracy: 0.5423\n",
            "Epoch 8/200\n",
            "2226/2226 [==============================] - 6s 2ms/step - loss: 1.7793 - accuracy: 0.5406\n",
            "Epoch 9/200\n",
            "2226/2226 [==============================] - 5s 2ms/step - loss: 1.7711 - accuracy: 0.5437\n",
            "Epoch 10/200\n",
            "2226/2226 [==============================] - 5s 2ms/step - loss: 1.7847 - accuracy: 0.5543\n",
            "Epoch 11/200\n",
            "2226/2226 [==============================] - 5s 2ms/step - loss: 1.7331 - accuracy: 0.5712\n",
            "Epoch 12/200\n",
            "2226/2226 [==============================] - 5s 2ms/step - loss: 1.7446 - accuracy: 0.5629\n",
            "Epoch 13/200\n",
            "2226/2226 [==============================] - 5s 2ms/step - loss: 1.7463 - accuracy: 0.5704\n",
            "Epoch 14/200\n",
            "2226/2226 [==============================] - 5s 2ms/step - loss: 1.7612 - accuracy: 0.5697\n",
            "Epoch 15/200\n",
            "2226/2226 [==============================] - 5s 2ms/step - loss: 1.7380 - accuracy: 0.5767\n",
            "Epoch 16/200\n",
            "2226/2226 [==============================] - 5s 2ms/step - loss: 1.7361 - accuracy: 0.5840\n",
            "Epoch 17/200\n",
            "2226/2226 [==============================] - 5s 2ms/step - loss: 1.6795 - accuracy: 0.5907\n",
            "Epoch 18/200\n",
            "2226/2226 [==============================] - 5s 2ms/step - loss: 1.6673 - accuracy: 0.5958\n",
            "Epoch 19/200\n",
            "2226/2226 [==============================] - 5s 2ms/step - loss: 1.6772 - accuracy: 0.5907\n",
            "Epoch 20/200\n",
            "2226/2226 [==============================] - 5s 2ms/step - loss: 1.6963 - accuracy: 0.5972\n",
            "Epoch 21/200\n",
            "2226/2226 [==============================] - 7s 3ms/step - loss: 1.6893 - accuracy: 0.5936\n",
            "Epoch 22/200\n",
            "2226/2226 [==============================] - 6s 3ms/step - loss: 1.6972 - accuracy: 0.5918\n",
            "Epoch 23/200\n",
            "2226/2226 [==============================] - 6s 3ms/step - loss: 1.6727 - accuracy: 0.6074\n",
            "Epoch 24/200\n",
            "2226/2226 [==============================] - 6s 3ms/step - loss: 1.7011 - accuracy: 0.5909\n",
            "Epoch 25/200\n",
            "2226/2226 [==============================] - 5s 2ms/step - loss: 1.7215 - accuracy: 0.5988\n",
            "Epoch 26/200\n",
            "2226/2226 [==============================] - 6s 3ms/step - loss: 1.6809 - accuracy: 0.6076\n",
            "Epoch 27/200\n",
            "2226/2226 [==============================] - 6s 3ms/step - loss: 1.6840 - accuracy: 0.6079\n",
            "Epoch 28/200\n",
            "2226/2226 [==============================] - 5s 2ms/step - loss: 1.7561 - accuracy: 0.5929\n",
            "Epoch 29/200\n",
            "2226/2226 [==============================] - 5s 2ms/step - loss: 1.7328 - accuracy: 0.5987\n",
            "Epoch 30/200\n",
            "2226/2226 [==============================] - 5s 2ms/step - loss: 1.7524 - accuracy: 0.5925\n",
            "Epoch 31/200\n",
            "2226/2226 [==============================] - 5s 2ms/step - loss: 1.7374 - accuracy: 0.5987\n",
            "Epoch 32/200\n",
            "2226/2226 [==============================] - 5s 2ms/step - loss: 1.7755 - accuracy: 0.5927\n",
            "Epoch 33/200\n",
            "2226/2226 [==============================] - 5s 2ms/step - loss: 1.7272 - accuracy: 0.6018\n",
            "Epoch 34/200\n",
            "2226/2226 [==============================] - 5s 2ms/step - loss: 1.7524 - accuracy: 0.5966\n",
            "Epoch 35/200\n",
            "2226/2226 [==============================] - 5s 2ms/step - loss: 1.7692 - accuracy: 0.5984\n",
            "Epoch 36/200\n",
            "2226/2226 [==============================] - 5s 2ms/step - loss: 1.7300 - accuracy: 0.6004\n",
            "Epoch 37/200\n",
            "2226/2226 [==============================] - 5s 2ms/step - loss: 1.7856 - accuracy: 0.6013\n",
            "Epoch 38/200\n",
            "2226/2226 [==============================] - 5s 2ms/step - loss: 1.6979 - accuracy: 0.6119\n",
            "Epoch 39/200\n",
            "2226/2226 [==============================] - 5s 2ms/step - loss: 1.7030 - accuracy: 0.6093\n",
            "Epoch 40/200\n",
            "2226/2226 [==============================] - 5s 2ms/step - loss: 1.7168 - accuracy: 0.6113\n",
            "Epoch 41/200\n",
            "2226/2226 [==============================] - 5s 2ms/step - loss: 1.7341 - accuracy: 0.6082\n",
            "Epoch 42/200\n",
            "2226/2226 [==============================] - 5s 2ms/step - loss: 1.6956 - accuracy: 0.6137\n",
            "Epoch 43/200\n",
            "2226/2226 [==============================] - 5s 2ms/step - loss: 1.7087 - accuracy: 0.6154\n",
            "Epoch 44/200\n",
            "2226/2226 [==============================] - 5s 2ms/step - loss: 1.7372 - accuracy: 0.6063\n",
            "Epoch 45/200\n",
            "2226/2226 [==============================] - 5s 2ms/step - loss: 1.7984 - accuracy: 0.5988\n",
            "Epoch 46/200\n",
            "2226/2226 [==============================] - 5s 2ms/step - loss: 1.7385 - accuracy: 0.6120\n",
            "Epoch 47/200\n",
            "2226/2226 [==============================] - 5s 2ms/step - loss: 1.7484 - accuracy: 0.6123\n",
            "Epoch 48/200\n",
            "2226/2226 [==============================] - 5s 2ms/step - loss: 1.7371 - accuracy: 0.6101\n",
            "Epoch 49/200\n",
            "2226/2226 [==============================] - 5s 2ms/step - loss: 1.7766 - accuracy: 0.6002\n",
            "Epoch 50/200\n",
            "2226/2226 [==============================] - 5s 2ms/step - loss: 1.7379 - accuracy: 0.6164\n",
            "Epoch 51/200\n",
            "2226/2226 [==============================] - 5s 2ms/step - loss: 1.7088 - accuracy: 0.6185\n",
            "Epoch 52/200\n",
            "2226/2226 [==============================] - 5s 2ms/step - loss: 1.7146 - accuracy: 0.6186\n",
            "Epoch 53/200\n",
            "2226/2226 [==============================] - 5s 2ms/step - loss: 1.7475 - accuracy: 0.6170\n",
            "Epoch 54/200\n",
            "2226/2226 [==============================] - 5s 2ms/step - loss: 1.7126 - accuracy: 0.6164\n",
            "Epoch 55/200\n",
            "2226/2226 [==============================] - 6s 3ms/step - loss: 1.6598 - accuracy: 0.6296\n",
            "Epoch 56/200\n",
            "2226/2226 [==============================] - 4s 2ms/step - loss: 1.6919 - accuracy: 0.6216\n",
            "Epoch 57/200\n",
            "2226/2226 [==============================] - 4s 2ms/step - loss: 1.7102 - accuracy: 0.6217\n",
            "Epoch 58/200\n",
            "2226/2226 [==============================] - 4s 2ms/step - loss: 1.7256 - accuracy: 0.6204\n",
            "Epoch 59/200\n",
            "2226/2226 [==============================] - 4s 2ms/step - loss: 1.7220 - accuracy: 0.6180\n",
            "Epoch 60/200\n",
            "2226/2226 [==============================] - 4s 2ms/step - loss: 1.7626 - accuracy: 0.6133\n",
            "Epoch 61/200\n",
            "2226/2226 [==============================] - 5s 2ms/step - loss: 1.7219 - accuracy: 0.6226\n",
            "Epoch 62/200\n",
            "2226/2226 [==============================] - 4s 2ms/step - loss: 1.6700 - accuracy: 0.6304\n",
            "Epoch 63/200\n",
            "2226/2226 [==============================] - 4s 2ms/step - loss: 1.7685 - accuracy: 0.6192\n",
            "Epoch 64/200\n",
            "2226/2226 [==============================] - 4s 2ms/step - loss: 1.7113 - accuracy: 0.6212\n",
            "Epoch 65/200\n",
            "2226/2226 [==============================] - 4s 2ms/step - loss: 1.7361 - accuracy: 0.6239\n",
            "Epoch 66/200\n",
            "2226/2226 [==============================] - 4s 2ms/step - loss: 1.7884 - accuracy: 0.6197\n",
            "Epoch 67/200\n",
            "2226/2226 [==============================] - 4s 2ms/step - loss: 1.7542 - accuracy: 0.6202\n",
            "Epoch 68/200\n",
            "2226/2226 [==============================] - 4s 2ms/step - loss: 1.7497 - accuracy: 0.6176\n",
            "Epoch 69/200\n",
            "2226/2226 [==============================] - 4s 2ms/step - loss: 1.6534 - accuracy: 0.6424\n",
            "Epoch 70/200\n",
            "2226/2226 [==============================] - 4s 2ms/step - loss: 1.7056 - accuracy: 0.6329\n",
            "Epoch 71/200\n",
            "2226/2226 [==============================] - 4s 2ms/step - loss: 1.7351 - accuracy: 0.6207\n",
            "Epoch 72/200\n",
            "2226/2226 [==============================] - 4s 2ms/step - loss: 1.8046 - accuracy: 0.6083\n",
            "Epoch 73/200\n",
            "2226/2226 [==============================] - 4s 2ms/step - loss: 1.6874 - accuracy: 0.6322\n",
            "Epoch 74/200\n",
            "2226/2226 [==============================] - 4s 2ms/step - loss: 1.7632 - accuracy: 0.6223\n",
            "Epoch 75/200\n",
            "2226/2226 [==============================] - 4s 2ms/step - loss: 1.7111 - accuracy: 0.6306\n",
            "Epoch 76/200\n",
            "2226/2226 [==============================] - 4s 2ms/step - loss: 1.7594 - accuracy: 0.6185\n",
            "Epoch 77/200\n",
            "2226/2226 [==============================] - 4s 2ms/step - loss: 1.7197 - accuracy: 0.6272\n",
            "Epoch 78/200\n",
            "2226/2226 [==============================] - 4s 2ms/step - loss: 1.6677 - accuracy: 0.6355\n",
            "Epoch 79/200\n",
            "2226/2226 [==============================] - 4s 2ms/step - loss: 1.6657 - accuracy: 0.6389\n",
            "Epoch 80/200\n",
            "2226/2226 [==============================] - 4s 2ms/step - loss: 1.7218 - accuracy: 0.6332\n",
            "Epoch 81/200\n",
            "2226/2226 [==============================] - 4s 2ms/step - loss: 1.6221 - accuracy: 0.6414\n",
            "Epoch 82/200\n",
            "2226/2226 [==============================] - 4s 2ms/step - loss: 1.7355 - accuracy: 0.6282\n",
            "Epoch 83/200\n",
            "2226/2226 [==============================] - 4s 2ms/step - loss: 1.7454 - accuracy: 0.6306\n",
            "Epoch 84/200\n",
            "2226/2226 [==============================] - 4s 2ms/step - loss: 1.7649 - accuracy: 0.6247\n",
            "Epoch 85/200\n",
            "2226/2226 [==============================] - 4s 2ms/step - loss: 1.6901 - accuracy: 0.6378\n",
            "Epoch 86/200\n",
            "2226/2226 [==============================] - 4s 2ms/step - loss: 1.7331 - accuracy: 0.6295\n",
            "Epoch 87/200\n",
            "2226/2226 [==============================] - 5s 2ms/step - loss: 1.7188 - accuracy: 0.6290\n",
            "Epoch 88/200\n",
            "2226/2226 [==============================] - 7s 3ms/step - loss: 1.7098 - accuracy: 0.6319\n",
            "Epoch 89/200\n",
            "2226/2226 [==============================] - 5s 2ms/step - loss: 1.6292 - accuracy: 0.6486\n",
            "Epoch 90/200\n",
            "2226/2226 [==============================] - 5s 2ms/step - loss: 1.6528 - accuracy: 0.6405\n",
            "Epoch 91/200\n",
            "2226/2226 [==============================] - 5s 2ms/step - loss: 1.7285 - accuracy: 0.6324\n",
            "Epoch 92/200\n",
            "2226/2226 [==============================] - 5s 2ms/step - loss: 1.8202 - accuracy: 0.6266\n",
            "Epoch 93/200\n",
            "2226/2226 [==============================] - 5s 2ms/step - loss: 1.6789 - accuracy: 0.6403\n",
            "Epoch 94/200\n",
            "2226/2226 [==============================] - 5s 2ms/step - loss: 1.7059 - accuracy: 0.6344\n",
            "Epoch 95/200\n",
            "2226/2226 [==============================] - 5s 2ms/step - loss: 1.6344 - accuracy: 0.6484\n",
            "Epoch 96/200\n",
            "2226/2226 [==============================] - 5s 2ms/step - loss: 1.6564 - accuracy: 0.6410\n",
            "Epoch 97/200\n",
            "2226/2226 [==============================] - 5s 2ms/step - loss: 1.7095 - accuracy: 0.6391\n",
            "Epoch 98/200\n",
            "2226/2226 [==============================] - 5s 2ms/step - loss: 1.6873 - accuracy: 0.6414\n",
            "Epoch 99/200\n",
            "2226/2226 [==============================] - 5s 2ms/step - loss: 1.7123 - accuracy: 0.6378\n",
            "Epoch 100/200\n",
            "2226/2226 [==============================] - 5s 2ms/step - loss: 1.6896 - accuracy: 0.6394\n",
            "Epoch 101/200\n",
            "2226/2226 [==============================] - 5s 2ms/step - loss: 1.6336 - accuracy: 0.6412\n",
            "Epoch 102/200\n",
            "2226/2226 [==============================] - 5s 2ms/step - loss: 1.6256 - accuracy: 0.6525\n",
            "Epoch 103/200\n",
            "2226/2226 [==============================] - 5s 2ms/step - loss: 1.6632 - accuracy: 0.6439\n",
            "Epoch 104/200\n",
            "2226/2226 [==============================] - 5s 2ms/step - loss: 1.5948 - accuracy: 0.6534\n",
            "Epoch 105/200\n",
            "2226/2226 [==============================] - 5s 2ms/step - loss: 1.6354 - accuracy: 0.6498\n",
            "Epoch 106/200\n",
            "2226/2226 [==============================] - 5s 2ms/step - loss: 1.5807 - accuracy: 0.6589\n",
            "Epoch 107/200\n",
            "2226/2226 [==============================] - 5s 2ms/step - loss: 1.6176 - accuracy: 0.6535\n",
            "Epoch 108/200\n",
            "2226/2226 [==============================] - 5s 2ms/step - loss: 1.6234 - accuracy: 0.6539\n",
            "Epoch 109/200\n",
            "2226/2226 [==============================] - 5s 2ms/step - loss: 1.6217 - accuracy: 0.6531\n",
            "Epoch 110/200\n",
            "2226/2226 [==============================] - 5s 2ms/step - loss: 1.6356 - accuracy: 0.6527\n",
            "Epoch 111/200\n",
            "2226/2226 [==============================] - 5s 2ms/step - loss: 1.5546 - accuracy: 0.6653\n",
            "Epoch 112/200\n",
            "2226/2226 [==============================] - 5s 2ms/step - loss: 1.6227 - accuracy: 0.6597\n",
            "Epoch 113/200\n",
            "2226/2226 [==============================] - 5s 2ms/step - loss: 1.5811 - accuracy: 0.6600\n",
            "Epoch 114/200\n",
            "2226/2226 [==============================] - 5s 2ms/step - loss: 1.6539 - accuracy: 0.6512\n",
            "Epoch 115/200\n",
            "2226/2226 [==============================] - 5s 2ms/step - loss: 1.6290 - accuracy: 0.6517\n",
            "Epoch 116/200\n",
            "2226/2226 [==============================] - 5s 2ms/step - loss: 1.6711 - accuracy: 0.6448\n",
            "Epoch 117/200\n",
            "2226/2226 [==============================] - 5s 2ms/step - loss: 1.6324 - accuracy: 0.6500\n",
            "Epoch 118/200\n",
            "2226/2226 [==============================] - 5s 2ms/step - loss: 1.6146 - accuracy: 0.6515\n",
            "Epoch 119/200\n",
            "2226/2226 [==============================] - 5s 2ms/step - loss: 1.6619 - accuracy: 0.6487\n",
            "Epoch 120/200\n",
            "2226/2226 [==============================] - 5s 2ms/step - loss: 1.6214 - accuracy: 0.6512\n",
            "Epoch 121/200\n",
            "2226/2226 [==============================] - 5s 2ms/step - loss: 1.5406 - accuracy: 0.6634\n",
            "Epoch 122/200\n",
            "2226/2226 [==============================] - 5s 2ms/step - loss: 1.5067 - accuracy: 0.6716\n",
            "Epoch 123/200\n",
            "2226/2226 [==============================] - 5s 2ms/step - loss: 1.6182 - accuracy: 0.6571\n",
            "Epoch 124/200\n",
            "2226/2226 [==============================] - 5s 2ms/step - loss: 1.5538 - accuracy: 0.6642\n",
            "Epoch 125/200\n",
            "2226/2226 [==============================] - 5s 2ms/step - loss: 1.5737 - accuracy: 0.6642\n",
            "Epoch 126/200\n",
            "2226/2226 [==============================] - 5s 2ms/step - loss: 1.6130 - accuracy: 0.6617\n",
            "Epoch 127/200\n",
            "2226/2226 [==============================] - 5s 2ms/step - loss: 1.5708 - accuracy: 0.6580\n",
            "Epoch 128/200\n",
            "2226/2226 [==============================] - 5s 2ms/step - loss: 1.5794 - accuracy: 0.6645\n",
            "Epoch 129/200\n",
            "2226/2226 [==============================] - 5s 2ms/step - loss: 1.5654 - accuracy: 0.6606\n",
            "Epoch 130/200\n",
            "2226/2226 [==============================] - 5s 2ms/step - loss: 1.5416 - accuracy: 0.6642\n",
            "Epoch 131/200\n",
            "2226/2226 [==============================] - 5s 2ms/step - loss: 1.5504 - accuracy: 0.6664\n",
            "Epoch 132/200\n",
            "2226/2226 [==============================] - 5s 2ms/step - loss: 1.5698 - accuracy: 0.6633\n",
            "Epoch 133/200\n",
            "2226/2226 [==============================] - 5s 2ms/step - loss: 1.5662 - accuracy: 0.6736\n",
            "Epoch 134/200\n",
            "2226/2226 [==============================] - 5s 2ms/step - loss: 1.6198 - accuracy: 0.6514\n",
            "Epoch 135/200\n",
            "2226/2226 [==============================] - 5s 2ms/step - loss: 1.5518 - accuracy: 0.6677\n",
            "Epoch 136/200\n",
            "2226/2226 [==============================] - 5s 2ms/step - loss: 1.5203 - accuracy: 0.6731\n",
            "Epoch 137/200\n",
            "2226/2226 [==============================] - 5s 2ms/step - loss: 1.5665 - accuracy: 0.6691\n",
            "Epoch 138/200\n",
            "2226/2226 [==============================] - 5s 2ms/step - loss: 1.6068 - accuracy: 0.6610\n",
            "Epoch 139/200\n",
            "2226/2226 [==============================] - 5s 2ms/step - loss: 1.5335 - accuracy: 0.6727\n",
            "Epoch 140/200\n",
            "2226/2226 [==============================] - 5s 2ms/step - loss: 1.5747 - accuracy: 0.6608\n",
            "Epoch 141/200\n",
            "2226/2226 [==============================] - 5s 2ms/step - loss: 1.5583 - accuracy: 0.6660\n",
            "Epoch 142/200\n",
            "2226/2226 [==============================] - 5s 2ms/step - loss: 1.4660 - accuracy: 0.6782\n",
            "Epoch 143/200\n",
            "2226/2226 [==============================] - 4s 2ms/step - loss: 1.4904 - accuracy: 0.6834\n",
            "Epoch 144/200\n",
            "2226/2226 [==============================] - 4s 2ms/step - loss: 1.5184 - accuracy: 0.6726\n",
            "Epoch 145/200\n",
            "2226/2226 [==============================] - 4s 2ms/step - loss: 1.4756 - accuracy: 0.6840\n",
            "Epoch 146/200\n",
            "2226/2226 [==============================] - 4s 2ms/step - loss: 1.5130 - accuracy: 0.6746\n",
            "Epoch 147/200\n",
            "2226/2226 [==============================] - 4s 2ms/step - loss: 1.4569 - accuracy: 0.6810\n",
            "Epoch 148/200\n",
            "2226/2226 [==============================] - 5s 2ms/step - loss: 1.4769 - accuracy: 0.6823\n",
            "Epoch 149/200\n",
            "2226/2226 [==============================] - 5s 2ms/step - loss: 1.4711 - accuracy: 0.6777\n",
            "Epoch 150/200\n",
            "2226/2226 [==============================] - 5s 2ms/step - loss: 1.4647 - accuracy: 0.6790\n",
            "Epoch 151/200\n",
            "2226/2226 [==============================] - 5s 2ms/step - loss: 1.4459 - accuracy: 0.6808\n",
            "Epoch 152/200\n",
            "2226/2226 [==============================] - 5s 2ms/step - loss: 1.5097 - accuracy: 0.6787\n",
            "Epoch 153/200\n",
            "2226/2226 [==============================] - 5s 2ms/step - loss: 1.4409 - accuracy: 0.6788\n",
            "Epoch 154/200\n",
            "2226/2226 [==============================] - 5s 2ms/step - loss: 1.5027 - accuracy: 0.6806\n",
            "Epoch 155/200\n",
            "2226/2226 [==============================] - 5s 2ms/step - loss: 1.4749 - accuracy: 0.6811\n",
            "Epoch 156/200\n",
            "2226/2226 [==============================] - 5s 2ms/step - loss: 1.4558 - accuracy: 0.6852\n",
            "Epoch 157/200\n",
            "2226/2226 [==============================] - 5s 2ms/step - loss: 1.4512 - accuracy: 0.6848\n",
            "Epoch 158/200\n",
            "2226/2226 [==============================] - 5s 2ms/step - loss: 1.4695 - accuracy: 0.6801\n",
            "Epoch 159/200\n",
            "2226/2226 [==============================] - 5s 2ms/step - loss: 1.4452 - accuracy: 0.6850\n",
            "Epoch 160/200\n",
            "2226/2226 [==============================] - 5s 2ms/step - loss: 1.5341 - accuracy: 0.6713\n",
            "Epoch 161/200\n",
            "2226/2226 [==============================] - 5s 2ms/step - loss: 1.4866 - accuracy: 0.6792\n",
            "Epoch 162/200\n",
            "2226/2226 [==============================] - 5s 2ms/step - loss: 1.4514 - accuracy: 0.6812\n",
            "Epoch 163/200\n",
            "2226/2226 [==============================] - 5s 2ms/step - loss: 1.5051 - accuracy: 0.6806\n",
            "Epoch 164/200\n",
            "2226/2226 [==============================] - 5s 2ms/step - loss: 1.4242 - accuracy: 0.6916\n",
            "Epoch 165/200\n",
            "2226/2226 [==============================] - 5s 2ms/step - loss: 1.4594 - accuracy: 0.6863\n",
            "Epoch 166/200\n",
            "2226/2226 [==============================] - 5s 2ms/step - loss: 1.4297 - accuracy: 0.6880\n",
            "Epoch 167/200\n",
            "2226/2226 [==============================] - 5s 2ms/step - loss: 1.4358 - accuracy: 0.6910\n",
            "Epoch 168/200\n",
            "2226/2226 [==============================] - 5s 2ms/step - loss: 1.4379 - accuracy: 0.6875\n",
            "Epoch 169/200\n",
            "2226/2226 [==============================] - 5s 2ms/step - loss: 1.4704 - accuracy: 0.6863\n",
            "Epoch 170/200\n",
            "2226/2226 [==============================] - 5s 2ms/step - loss: 1.4127 - accuracy: 0.6961\n",
            "Epoch 171/200\n",
            "2226/2226 [==============================] - 5s 2ms/step - loss: 1.4336 - accuracy: 0.6890\n",
            "Epoch 172/200\n",
            "2226/2226 [==============================] - 5s 2ms/step - loss: 1.4013 - accuracy: 0.6904\n",
            "Epoch 173/200\n",
            "2226/2226 [==============================] - 5s 2ms/step - loss: 1.4317 - accuracy: 0.6950\n",
            "Epoch 174/200\n",
            "2226/2226 [==============================] - 5s 2ms/step - loss: 1.3891 - accuracy: 0.6993\n",
            "Epoch 175/200\n",
            "2226/2226 [==============================] - 5s 2ms/step - loss: 1.3975 - accuracy: 0.6969\n",
            "Epoch 176/200\n",
            "2226/2226 [==============================] - 4s 2ms/step - loss: 1.4641 - accuracy: 0.6889\n",
            "Epoch 177/200\n",
            "2226/2226 [==============================] - 5s 2ms/step - loss: 1.3992 - accuracy: 0.6910\n",
            "Epoch 178/200\n",
            "2226/2226 [==============================] - 5s 2ms/step - loss: 1.3870 - accuracy: 0.6943\n",
            "Epoch 179/200\n",
            "2226/2226 [==============================] - 4s 2ms/step - loss: 1.3916 - accuracy: 0.7014\n",
            "Epoch 180/200\n",
            "2226/2226 [==============================] - 5s 2ms/step - loss: 1.4137 - accuracy: 0.6952\n",
            "Epoch 181/200\n",
            "2226/2226 [==============================] - 4s 2ms/step - loss: 1.4125 - accuracy: 0.6940\n",
            "Epoch 182/200\n",
            "2226/2226 [==============================] - 4s 2ms/step - loss: 1.4366 - accuracy: 0.6878\n",
            "Epoch 183/200\n",
            "2226/2226 [==============================] - 5s 2ms/step - loss: 1.3689 - accuracy: 0.7010\n",
            "Epoch 184/200\n",
            "2226/2226 [==============================] - 4s 2ms/step - loss: 1.4330 - accuracy: 0.6916\n",
            "Epoch 185/200\n",
            "2226/2226 [==============================] - 4s 2ms/step - loss: 1.3929 - accuracy: 0.6970\n",
            "Epoch 186/200\n",
            "2226/2226 [==============================] - 4s 2ms/step - loss: 1.3769 - accuracy: 0.6997\n",
            "Epoch 187/200\n",
            "2226/2226 [==============================] - 4s 2ms/step - loss: 1.4818 - accuracy: 0.6854\n",
            "Epoch 188/200\n",
            "2226/2226 [==============================] - 4s 2ms/step - loss: 1.4178 - accuracy: 0.6966\n",
            "Epoch 189/200\n",
            "2226/2226 [==============================] - 4s 2ms/step - loss: 1.3664 - accuracy: 0.6981\n",
            "Epoch 190/200\n",
            "2226/2226 [==============================] - 4s 2ms/step - loss: 1.2726 - accuracy: 0.7186\n",
            "Epoch 191/200\n",
            "2226/2226 [==============================] - 5s 2ms/step - loss: 1.2923 - accuracy: 0.7128\n",
            "Epoch 192/200\n",
            "2226/2226 [==============================] - 4s 2ms/step - loss: 1.3258 - accuracy: 0.7076\n",
            "Epoch 193/200\n",
            "2226/2226 [==============================] - 4s 2ms/step - loss: 1.3234 - accuracy: 0.7031\n",
            "Epoch 194/200\n",
            "2226/2226 [==============================] - 4s 2ms/step - loss: 1.3573 - accuracy: 0.7054\n",
            "Epoch 195/200\n",
            "2226/2226 [==============================] - 4s 2ms/step - loss: 1.3384 - accuracy: 0.7077\n",
            "Epoch 196/200\n",
            "2226/2226 [==============================] - 4s 2ms/step - loss: 1.3269 - accuracy: 0.7143\n",
            "Epoch 197/200\n",
            "2226/2226 [==============================] - 4s 2ms/step - loss: 1.3235 - accuracy: 0.7073\n",
            "Epoch 198/200\n",
            "2226/2226 [==============================] - 4s 2ms/step - loss: 1.3330 - accuracy: 0.7110\n",
            "Epoch 199/200\n",
            "2226/2226 [==============================] - 4s 2ms/step - loss: 1.3384 - accuracy: 0.7066\n",
            "Epoch 200/200\n",
            "2226/2226 [==============================] - 4s 2ms/step - loss: 1.2498 - accuracy: 0.7211\n"
          ]
        },
        {
          "output_type": "execute_result",
          "data": {
            "text/plain": [
              "<keras.callbacks.History at 0x7fe4b523ce20>"
            ]
          },
          "metadata": {},
          "execution_count": 8
        }
      ],
      "metadata": {
        "colab": {
          "base_uri": "https://localhost:8080/"
        },
        "id": "g-WKwStLZTDp",
        "outputId": "ca01e338-6944-409c-f412-9d3c92e5a37c"
      }
    },
    {
      "cell_type": "markdown",
      "source": [
        "### Functions to preprocess input"
      ],
      "metadata": {
        "id": "8oNxxwrWiibg"
      }
    },
    {
      "cell_type": "code",
      "execution_count": 9,
      "source": [
        "def get_words_from_input_sentence(sentence):\n",
        "    sentence_words = nltk.word_tokenize(sentence)\n",
        "    sentence_words = [lemma_function.lemmatize(word.lower()) for word in sentence_words]\n",
        "    return sentence_words\n",
        "\n",
        "def get_input_vector(sentence, words, show_details=True):\n",
        "    sentence_words = get_words_from_input_sentence(sentence)\n",
        "    bag = [0]*len(words)  \n",
        "    for s in sentence_words:\n",
        "        for i,w in enumerate(words):\n",
        "            if w == s: \n",
        "                # assign 1 if current word is in the vocabulary position\n",
        "                bag[i] = 1\n",
        "                if show_details:\n",
        "                    print (\"found in bag: %s\" % w)\n",
        "\n",
        "    return(np.array(bag))"
      ],
      "outputs": [],
      "metadata": {
        "id": "rPXEsxbeZVFF"
      }
    },
    {
      "cell_type": "markdown",
      "source": [
        "### Taking input message and converting to input vector"
      ],
      "metadata": {
        "id": "Qxkq0q_ik0jV"
      }
    },
    {
      "cell_type": "code",
      "execution_count": 10,
      "source": [
        "input_sentence = \"get car insurance\""
      ],
      "outputs": [],
      "metadata": {
        "id": "aPJpwvdelOX7"
      }
    },
    {
      "cell_type": "code",
      "execution_count": 11,
      "source": [
        "input_vector = get_input_vector(input_sentence, words)\n",
        "print (\"Sentence as input vector - \", input_vector)"
      ],
      "outputs": [
        {
          "output_type": "stream",
          "name": "stdout",
          "text": [
            "found in bag: get\n",
            "found in bag: car\n",
            "found in bag: insurance\n",
            "Sentence as input vector -  [0 0 0 ... 0 0 0]\n"
          ]
        }
      ],
      "metadata": {
        "colab": {
          "base_uri": "https://localhost:8080/"
        },
        "id": "-Ty6UqVJZZsA",
        "outputId": "3a3256c7-0347-4ec6-c750-3181b9386bf3"
      }
    },
    {
      "cell_type": "markdown",
      "source": [
        "Predict output class using our model"
      ],
      "metadata": {
        "id": "e_0FO588k-KZ"
      }
    },
    {
      "cell_type": "code",
      "execution_count": 12,
      "source": [
        "inputvar = pd.DataFrame([input_vector], dtype=float, index=['input'])\n",
        "model_output = model.predict(inputvar)"
      ],
      "outputs": [],
      "metadata": {
        "colab": {
          "base_uri": "https://localhost:8080/"
        },
        "id": "gyWzUPOiZbGC",
        "outputId": "ba9c5b21-a11b-495a-8a68-5f82dcb150c5"
      }
    },
    {
      "cell_type": "markdown",
      "source": [
        "Get tag with maximum probability"
      ],
      "metadata": {}
    },
    {
      "cell_type": "code",
      "execution_count": 13,
      "source": [
        "print(\"Input sentence - \", input_sentence)\n",
        "print(\"Output class for input - \", classes[model_output.argmax()])"
      ],
      "outputs": [
        {
          "output_type": "stream",
          "name": "stdout",
          "text": [
            "Input sentence -  get car insurance\n",
            "Output class for input -  INFO_GET_A_QUOTE_AUTO\n"
          ]
        }
      ],
      "metadata": {
        "colab": {
          "base_uri": "https://localhost:8080/"
        },
        "id": "8yRwEb2ZjLJa",
        "outputId": "ca6e39a4-b99a-4a70-8636-5ded430a4aa5"
      }
    },
    {
      "cell_type": "markdown",
      "source": [
        "Save model and data structures to pickle files"
      ],
      "metadata": {
        "id": "QHVjUeS7ozZX"
      }
    },
    {
      "cell_type": "code",
      "execution_count": 14,
      "source": [
        "pickle.dump(model, open(\"chatbot-model.pkl\", \"wb\"))"
      ],
      "outputs": [
        {
          "output_type": "stream",
          "name": "stderr",
          "text": [
            "2021-11-21 01:42:10.926097: W tensorflow/python/util/util.cc:368] Sets are not currently considered sequences, but this may change in the future, so consider avoiding using them.\n"
          ]
        },
        {
          "output_type": "stream",
          "name": "stdout",
          "text": [
            "INFO:tensorflow:Assets written to: ram://3b7b6017-b113-466d-ac9a-16bedc61c371/assets\n"
          ]
        }
      ],
      "metadata": {
        "colab": {
          "base_uri": "https://localhost:8080/"
        },
        "id": "pgThheOwZeiI",
        "outputId": "9389d7b1-80c2-430a-cce4-9d7d1c957751"
      }
    },
    {
      "cell_type": "code",
      "execution_count": 15,
      "source": [
        "pickle.dump( {'words':words, 'classes':classes, 'train_x':train_x, 'train_y':train_y}, open( \"chatbot-data.pkl\", \"wb\" ) )"
      ],
      "outputs": [],
      "metadata": {
        "id": "DEZkP5HHZgRh"
      }
    },
    {
      "cell_type": "markdown",
      "source": [
        "# Testing the model"
      ],
      "metadata": {}
    },
    {
      "cell_type": "markdown",
      "source": [
        "### Loading in model and data structures"
      ],
      "metadata": {}
    },
    {
      "cell_type": "code",
      "execution_count": 16,
      "source": [
        "data = pickle.load( open( \"chatbot-data.pkl\", \"rb\" ) )\n",
        "words = data['words']\n",
        "classes = data['classes']\n",
        "\n",
        "# Load intents data\n",
        "intents =  json.load(open('intents.json'))['intents']\n",
        "lemma_function = WordNetLemmatizer()\n",
        "\n",
        "#load model\n",
        "with open(f'chatbot-model.pkl', 'rb') as f:\n",
        "    model = pickle.load(f)"
      ],
      "outputs": [],
      "metadata": {}
    },
    {
      "cell_type": "markdown",
      "source": [
        "### Function to classify input"
      ],
      "metadata": {}
    },
    {
      "cell_type": "code",
      "execution_count": 17,
      "source": [
        "def classify_input(sentence):\n",
        "    input_data = pd.DataFrame([get_input_vector(sentence, words, False)], dtype=float, index=['input'])\n",
        "    results = model.predict([input_data])[0]\n",
        "    results = [[i,r] for i,r in enumerate(results)]\n",
        "    # sort by strength of probability\n",
        "    results.sort(key=lambda x: x[1], reverse=True)\n",
        "    return_list = []\n",
        "    for r in results:\n",
        "        response = None\n",
        "        context = None\n",
        "        for intent in intents:\n",
        "            if intent['tag'] == classes[r[0]]:\n",
        "                response = intent['responses']\n",
        "                context = intent['context']\n",
        "\n",
        "        return_list.append({'tag': classes[r[0]], 'probability': str(r[1]), 'response': response, 'context': context})\n",
        "    \n",
        "    return return_list"
      ],
      "outputs": [],
      "metadata": {}
    },
    {
      "cell_type": "markdown",
      "source": [
        "### Loading in testing data and predicting intent for all testing samples"
      ],
      "metadata": {}
    },
    {
      "cell_type": "code",
      "execution_count": 18,
      "source": [
        "csvFilePath = r'testing_data.csv'\n",
        "\n",
        "total = 0\n",
        "correct = 0\n",
        "\n",
        "with open(csvFilePath, encoding='utf-8') as csvf:\n",
        "        csvReader = csv.DictReader(csvf)\n",
        "         \n",
        "        for rows in csvReader:\n",
        "            sentence = rows['UTTERANCES']\n",
        "            response = classify_input(sentence)\n",
        "            tag = response[0]['tag'] if response[0] else ''\n",
        "            if tag == rows['INTENT_NAME']:\n",
        "                correct+=1\n",
        "            total+=1\n",
        "            \n",
        "            if total%500 == 0:\n",
        "                print(f'{total} samples tested, accuracy: {(correct/total) *100} %')\n",
        "\n",
        "print(f'{total} samples tested, final accuracy of model: {correct/total * 100}')"
      ],
      "outputs": [
        {
          "output_type": "stream",
          "name": "stdout",
          "text": [
            "500 samples tested, accuracy: 85.0 %\n",
            "1000 samples tested, accuracy: 75.9 %\n",
            "1500 samples tested, accuracy: 79.80000000000001 %\n",
            "2000 samples tested, accuracy: 82.1 %\n",
            "2500 samples tested, accuracy: 82.52000000000001 %\n",
            "3000 samples tested, accuracy: 82.93333333333334 %\n",
            "3500 samples tested, accuracy: 81.65714285714286 %\n",
            "4000 samples tested, accuracy: 82.125 %\n",
            "4500 samples tested, accuracy: 82.77777777777777 %\n",
            "5000 samples tested, accuracy: 82.67999999999999 %\n",
            "5500 samples tested, accuracy: 82.7090909090909 %\n",
            "6000 samples tested, accuracy: 83.39999999999999 %\n",
            "6500 samples tested, accuracy: 83.03076923076922 %\n",
            "7000 samples tested, accuracy: 83.68571428571428 %\n",
            "7500 samples tested, accuracy: 84.05333333333334 %\n",
            "8000 samples tested, accuracy: 84.3875 %\n",
            "8500 samples tested, accuracy: 84.14117647058823 %\n",
            "9000 samples tested, accuracy: 84.23333333333333 %\n",
            "9500 samples tested, accuracy: 83.98947368421052 %\n",
            "10000 samples tested, accuracy: 83.87 %\n",
            "10500 samples tested, accuracy: 84.04761904761905 %\n",
            "11000 samples tested, accuracy: 83.73636363636363 %\n",
            "11042 samples tested, final accuracy of model: 83.4269154138743\n"
          ]
        }
      ],
      "metadata": {}
    },
    {
      "cell_type": "markdown",
      "source": [
        "## Final accuracy of model: 83.5 %"
      ],
      "metadata": {}
    }
  ]
}