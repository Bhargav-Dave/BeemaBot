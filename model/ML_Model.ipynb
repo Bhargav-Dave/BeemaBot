{
  "nbformat": 4,
  "nbformat_minor": 2,
  "metadata": {
    "colab": {
      "name": "ML Model.ipynb",
      "provenance": []
    },
    "kernelspec": {
      "name": "python3",
      "display_name": "Python 3.9.6 64-bit"
    },
    "language_info": {
      "name": "python",
      "version": "3.9.6",
      "mimetype": "text/x-python",
      "codemirror_mode": {
        "name": "ipython",
        "version": 3
      },
      "pygments_lexer": "ipython3",
      "nbconvert_exporter": "python",
      "file_extension": ".py"
    },
    "interpreter": {
      "hash": "aee8b7b246df8f9039afb4144a1f6fd8d2ca17a180786b69acc140d282b71a49"
    }
  },
  "cells": [
    {
      "cell_type": "code",
      "execution_count": 1,
      "source": [
        "import nltk\n",
        "# nltk.download('wordnet')\n",
        "from nltk.corpus import wordnet as wn\n",
        "from nltk.stem.wordnet import WordNetLemmatizer\n",
        "import numpy as np\n",
        "from tensorflow.keras.models import Sequential\n",
        "from keras.layers import Dense, Activation, Dropout\n",
        "from tensorflow.keras.optimizers import SGD\n",
        "import pandas as pd\n",
        "import pickle\n",
        "import random\n",
        "import json"
      ],
      "outputs": [],
      "metadata": {
        "colab": {
          "base_uri": "https://localhost:8080/"
        },
        "id": "mbfPmRhuX5zA",
        "outputId": "08c8accc-c57b-4332-adaa-3f0ccc53a603"
      }
    },
    {
      "cell_type": "markdown",
      "source": [
        "Importing our dataset"
      ],
      "metadata": {
        "id": "xmdy5hqueVQg"
      }
    },
    {
      "cell_type": "code",
      "execution_count": 2,
      "source": [
        "with open('intents.json') as json_data:\n",
        "    intents = json.load(json_data)"
      ],
      "outputs": [],
      "metadata": {
        "id": "3lp6m8ltYKjj"
      }
    },
    {
      "cell_type": "markdown",
      "source": [
        "Bulding our list of words, classes and words to tags mapping(documents)"
      ],
      "metadata": {
        "id": "akFF6gfpfT6A"
      }
    },
    {
      "cell_type": "code",
      "execution_count": 3,
      "source": [
        "words = []\n",
        "classes = []\n",
        "documents = []\n",
        "ignore_words = ['?',',','.']\n",
        "\n",
        "for intent in intents['intents']:\n",
        "    for pattern in intent['patterns']:\n",
        "        w = nltk.word_tokenize(pattern)\n",
        "        # add to our words list\n",
        "        words.extend(w)\n",
        "        # add to documents in our corpus\n",
        "        documents.append((w, intent['tag']))\n",
        "        if intent['tag'] not in classes:\n",
        "            classes.append(intent['tag'])\n",
        "\n",
        "# lemmatize and lower each word\n",
        "lemma_function = WordNetLemmatizer()\n",
        "words = [lemma_function.lemmatize(w.lower()) for w in words if w not in ignore_words]\n",
        "\n",
        "# remove duplicates\n",
        "words = sorted(list(set(words)))\n",
        "# sort classes\n",
        "classes = sorted(list(set(classes)))\n",
        "\n",
        "# words = all words, vocabulary\n",
        "print (len(words), \"lemmatized words\", words)\n",
        "# documents = combination between patterns and intents\n",
        "print (len(documents), \"documents\", documents)\n",
        "# classes = intents\n",
        "print (len(classes), \"classes\", classes)"
      ],
      "outputs": [
        {
          "output_type": "stream",
          "name": "stdout",
          "text": [
            "85 lemmatized words [\"'s\", 'a', 'adverse', 'all', 'anyone', 'are', 'awesome', 'be', 'behavior', 'blood', 'by', 'bye', 'can', 'causing', 'chatting', 'check', 'could', 'data', 'day', 'detail', 'do', 'dont', 'drug', 'entry', 'find', 'for', 'give', 'good', 'goodbye', 'have', 'hello', 'help', 'helpful', 'helping', 'hi', 'history', 'hospital', 'how', 'i', 'id', 'is', 'later', 'list', 'load', 'locate', 'log', 'looking', 'lookup', 'management', 'me', 'module', 'nearby', 'next', 'nice', 'of', 'offered', 'open', 'patient', 'pharmacy', 'pressure', 'provide', 'reaction', 'related', 'result', 'search', 'searching', 'see', 'show', 'suitable', 'support', 'task', 'thank', 'thanks', 'that', 'there', 'till', 'time', 'to', 'transfer', 'up', 'want', 'what', 'which', 'with', 'you']\n",
            "45 documents [(['Hi', 'there'], 'greeting'), (['How', 'are', 'you'], 'greeting'), (['Is', 'anyone', 'there', '?'], 'greeting'), (['Hello'], 'greeting'), (['Good', 'day'], 'greeting'), (['Bye'], 'goodbye'), (['See', 'you', 'later'], 'goodbye'), (['Goodbye'], 'goodbye'), (['Nice', 'chatting', 'to', 'you', ',', 'bye'], 'goodbye'), (['Till', 'next', 'time'], 'goodbye'), (['Thanks'], 'thanks'), (['Thank', 'you'], 'thanks'), (['That', \"'s\", 'helpful'], 'thanks'), (['Awesome', ',', 'thanks'], 'thanks'), (['Thanks', 'for', 'helping', 'me'], 'thanks'), (['How', 'you', 'could', 'help', 'me', '?'], 'options'), (['What', 'you', 'can', 'do', '?'], 'options'), (['What', 'help', 'you', 'provide', '?'], 'options'), (['How', 'you', 'can', 'be', 'helpful', '?'], 'options'), (['What', 'support', 'is', 'offered'], 'options'), (['How', 'to', 'check', 'Adverse', 'drug', 'reaction', '?'], 'adverse_drug'), (['Open', 'adverse', 'drugs', 'module'], 'adverse_drug'), (['Give', 'me', 'a', 'list', 'of', 'drugs', 'causing', 'adverse', 'behavior'], 'adverse_drug'), (['List', 'all', 'drugs', 'suitable', 'for', 'patient', 'with', 'adverse', 'reaction'], 'adverse_drug'), (['Which', 'drugs', 'dont', 'have', 'adverse', 'reaction', '?'], 'adverse_drug'), (['Open', 'blood', 'pressure', 'module'], 'blood_pressure'), (['Task', 'related', 'to', 'blood', 'pressure'], 'blood_pressure'), (['Blood', 'pressure', 'data', 'entry'], 'blood_pressure'), (['I', 'want', 'to', 'log', 'blood', 'pressure', 'results'], 'blood_pressure'), (['Blood', 'pressure', 'data', 'management'], 'blood_pressure'), (['I', 'want', 'to', 'search', 'for', 'blood', 'pressure', 'result', 'history'], 'blood_pressure_search'), (['Blood', 'pressure', 'for', 'patient'], 'blood_pressure_search'), (['Load', 'patient', 'blood', 'pressure', 'result'], 'blood_pressure_search'), (['Show', 'blood', 'pressure', 'results', 'for', 'patient'], 'blood_pressure_search'), (['Find', 'blood', 'pressure', 'results', 'by', 'ID'], 'blood_pressure_search'), (['Find', 'me', 'a', 'pharmacy'], 'pharmacy_search'), (['Find', 'pharmacy'], 'pharmacy_search'), (['List', 'of', 'pharmacies', 'nearby'], 'pharmacy_search'), (['Locate', 'pharmacy'], 'pharmacy_search'), (['Search', 'pharmacy'], 'pharmacy_search'), (['Lookup', 'for', 'hospital'], 'hospital_search'), (['Searching', 'for', 'hospital', 'to', 'transfer', 'patient'], 'hospital_search'), (['I', 'want', 'to', 'search', 'hospital', 'data'], 'hospital_search'), (['Hospital', 'lookup', 'for', 'patient'], 'hospital_search'), (['Looking', 'up', 'hospital', 'details'], 'hospital_search')]\n",
            "9 classes ['adverse_drug', 'blood_pressure', 'blood_pressure_search', 'goodbye', 'greeting', 'hospital_search', 'options', 'pharmacy_search', 'thanks']\n"
          ]
        }
      ],
      "metadata": {
        "colab": {
          "base_uri": "https://localhost:8080/"
        },
        "id": "mdIrG8ttYutG",
        "outputId": "6ce0e776-c4b8-4711-ed0c-77c343a16dd4"
      }
    },
    {
      "cell_type": "markdown",
      "source": [
        "Creating training data from dataset"
      ],
      "metadata": {
        "id": "iMu0rOfEgfUA"
      }
    },
    {
      "cell_type": "code",
      "execution_count": 4,
      "source": [
        "training = []\n",
        "output_empty = [0] * len(classes)\n",
        "\n",
        "# training set, bag of words for each sentence\n",
        "for doc in documents:\n",
        "    bag = []\n",
        "    pattern_words = doc[0]\n",
        "    # lemmatize each word\n",
        "    pattern_words = [lemma_function.lemmatize(word.lower()) for word in pattern_words]\n",
        "    # create our bag of words array with 1, if word match found in current pattern\n",
        "    for w in words:\n",
        "        bag.append(1) if w in pattern_words else bag.append(0)\n",
        "    \n",
        "    # output is a '0' for each tag and '1' for current tag (for each pattern)\n",
        "    output_row = list(output_empty)\n",
        "    output_row[classes.index(doc[1])] = 1\n",
        "    \n",
        "    training.append([bag, output_row])\n",
        "\n",
        "random.shuffle(training)\n",
        "training = np.array(training)\n",
        "\n",
        "train_x = list(training[:,0])\n",
        "train_y = list(training[:,1])"
      ],
      "outputs": [
        {
          "output_type": "stream",
          "name": "stderr",
          "text": [
            "/var/folders/fj/l84qvx552y37ht23spc9y0140000gn/T/ipykernel_31955/1985779988.py:21: VisibleDeprecationWarning: Creating an ndarray from ragged nested sequences (which is a list-or-tuple of lists-or-tuples-or ndarrays with different lengths or shapes) is deprecated. If you meant to do this, you must specify 'dtype=object' when creating the ndarray.\n",
            "  training = np.array(training)\n"
          ]
        }
      ],
      "metadata": {
        "colab": {
          "base_uri": "https://localhost:8080/"
        },
        "id": "Bn_g5CREYxJL",
        "outputId": "1af13465-dda2-4718-e94b-b48b7681705d"
      }
    },
    {
      "cell_type": "markdown",
      "source": [
        "Building the Neural Network Model"
      ],
      "metadata": {
        "id": "FcTlIjCLiRzl"
      }
    },
    {
      "cell_type": "code",
      "execution_count": 5,
      "source": [
        "# Create model - 3 layers. First layer 128 neurons, second layer 64 neurons and 3rd output layer contains number of neurons\n",
        "# equal to number of intents to predict output intent with softmax\n",
        "model = Sequential()\n",
        "model.add(Dense(128, input_shape=(len(train_x[0]),), activation='relu'))\n",
        "model.add(Dropout(0.5))\n",
        "model.add(Dense(64, activation='relu'))\n",
        "model.add(Dropout(0.5))\n",
        "model.add(Dense(len(train_y[0]), activation='softmax'))"
      ],
      "outputs": [
        {
          "output_type": "stream",
          "name": "stderr",
          "text": [
            "2021-11-18 02:26:43.737633: I tensorflow/core/platform/cpu_feature_guard.cc:151] This TensorFlow binary is optimized with oneAPI Deep Neural Network Library (oneDNN) to use the following CPU instructions in performance-critical operations:  AVX2 FMA\n",
            "To enable them in other operations, rebuild TensorFlow with the appropriate compiler flags.\n"
          ]
        }
      ],
      "metadata": {
        "id": "AtJe7iR-ZQQj"
      }
    },
    {
      "cell_type": "code",
      "execution_count": 6,
      "source": [
        "# Compile model. Stochastic gradient descent with Nesterov accelerated gradient gives good results for this model\n",
        "sgd = SGD(lr=0.01, decay=1e-6, momentum=0.9, nesterov=True)\n",
        "model.compile(loss='categorical_crossentropy', optimizer=sgd, metrics=['accuracy'])"
      ],
      "outputs": [
        {
          "output_type": "stream",
          "name": "stderr",
          "text": [
            "/Library/Frameworks/Python.framework/Versions/3.9/lib/python3.9/site-packages/keras/optimizer_v2/gradient_descent.py:102: UserWarning: The `lr` argument is deprecated, use `learning_rate` instead.\n",
            "  super(SGD, self).__init__(name, **kwargs)\n"
          ]
        }
      ],
      "metadata": {
        "colab": {
          "base_uri": "https://localhost:8080/"
        },
        "id": "0KZVrl0sZRhY",
        "outputId": "521b8db1-4daa-4367-87be-4bcc237014f3"
      }
    },
    {
      "cell_type": "markdown",
      "source": [
        "Training the model on training data"
      ],
      "metadata": {
        "id": "_lO73M5lieG1"
      }
    },
    {
      "cell_type": "code",
      "execution_count": 7,
      "source": [
        "model.fit(np.array(train_x), np.array(train_y), epochs=200, batch_size=5, verbose=1)"
      ],
      "outputs": [
        {
          "output_type": "stream",
          "name": "stdout",
          "text": [
            "Epoch 1/200\n",
            "9/9 [==============================] - 1s 1ms/step - loss: 2.2321 - accuracy: 0.0889\n",
            "Epoch 2/200\n",
            "9/9 [==============================] - 0s 1ms/step - loss: 2.1841 - accuracy: 0.2000\n",
            "Epoch 3/200\n",
            "9/9 [==============================] - 0s 1ms/step - loss: 2.0309 - accuracy: 0.3111\n",
            "Epoch 4/200\n",
            "9/9 [==============================] - 0s 1ms/step - loss: 1.9893 - accuracy: 0.3778\n",
            "Epoch 5/200\n",
            "9/9 [==============================] - 0s 1ms/step - loss: 1.8460 - accuracy: 0.3556\n",
            "Epoch 6/200\n",
            "9/9 [==============================] - 0s 2ms/step - loss: 1.6830 - accuracy: 0.6000\n",
            "Epoch 7/200\n",
            "9/9 [==============================] - 0s 1ms/step - loss: 1.4883 - accuracy: 0.5556\n",
            "Epoch 8/200\n",
            "9/9 [==============================] - 0s 2ms/step - loss: 1.4379 - accuracy: 0.6667\n",
            "Epoch 9/200\n",
            "9/9 [==============================] - 0s 1ms/step - loss: 1.4547 - accuracy: 0.5333\n",
            "Epoch 10/200\n",
            "9/9 [==============================] - 0s 2ms/step - loss: 1.2884 - accuracy: 0.5778\n",
            "Epoch 11/200\n",
            "9/9 [==============================] - 0s 1ms/step - loss: 1.1838 - accuracy: 0.6889\n",
            "Epoch 12/200\n",
            "9/9 [==============================] - 0s 1ms/step - loss: 0.9784 - accuracy: 0.7333\n",
            "Epoch 13/200\n",
            "9/9 [==============================] - 0s 2ms/step - loss: 0.9748 - accuracy: 0.7333\n",
            "Epoch 14/200\n",
            "9/9 [==============================] - 0s 2ms/step - loss: 0.9989 - accuracy: 0.7556\n",
            "Epoch 15/200\n",
            "9/9 [==============================] - 0s 2ms/step - loss: 0.9244 - accuracy: 0.6889\n",
            "Epoch 16/200\n",
            "9/9 [==============================] - 0s 2ms/step - loss: 0.7005 - accuracy: 0.8222\n",
            "Epoch 17/200\n",
            "9/9 [==============================] - 0s 5ms/step - loss: 0.6120 - accuracy: 0.8444\n",
            "Epoch 18/200\n",
            "9/9 [==============================] - 0s 3ms/step - loss: 0.7284 - accuracy: 0.8000\n",
            "Epoch 19/200\n",
            "9/9 [==============================] - 0s 3ms/step - loss: 0.6504 - accuracy: 0.7778\n",
            "Epoch 20/200\n",
            "9/9 [==============================] - 0s 4ms/step - loss: 0.4349 - accuracy: 0.8667\n",
            "Epoch 21/200\n",
            "9/9 [==============================] - 0s 3ms/step - loss: 0.5111 - accuracy: 0.8222\n",
            "Epoch 22/200\n",
            "9/9 [==============================] - 0s 3ms/step - loss: 0.5000 - accuracy: 0.8667\n",
            "Epoch 23/200\n",
            "9/9 [==============================] - 0s 3ms/step - loss: 0.3715 - accuracy: 0.9111\n",
            "Epoch 24/200\n",
            "9/9 [==============================] - 0s 3ms/step - loss: 0.4304 - accuracy: 0.9111\n",
            "Epoch 25/200\n",
            "9/9 [==============================] - 0s 3ms/step - loss: 0.5008 - accuracy: 0.8667\n",
            "Epoch 26/200\n",
            "9/9 [==============================] - 0s 3ms/step - loss: 0.6088 - accuracy: 0.8222\n",
            "Epoch 27/200\n",
            "9/9 [==============================] - 0s 3ms/step - loss: 0.3614 - accuracy: 0.9111\n",
            "Epoch 28/200\n",
            "9/9 [==============================] - 0s 2ms/step - loss: 0.2751 - accuracy: 0.9333\n",
            "Epoch 29/200\n",
            "9/9 [==============================] - 0s 2ms/step - loss: 0.3840 - accuracy: 0.9111\n",
            "Epoch 30/200\n",
            "9/9 [==============================] - 0s 3ms/step - loss: 0.3571 - accuracy: 0.8889\n",
            "Epoch 31/200\n",
            "9/9 [==============================] - 0s 3ms/step - loss: 0.2339 - accuracy: 0.9556\n",
            "Epoch 32/200\n",
            "9/9 [==============================] - 0s 3ms/step - loss: 0.1834 - accuracy: 0.9556\n",
            "Epoch 33/200\n",
            "9/9 [==============================] - 0s 2ms/step - loss: 0.3311 - accuracy: 0.9111\n",
            "Epoch 34/200\n",
            "9/9 [==============================] - 0s 3ms/step - loss: 0.2238 - accuracy: 0.9556\n",
            "Epoch 35/200\n",
            "9/9 [==============================] - 0s 3ms/step - loss: 0.2452 - accuracy: 0.9556\n",
            "Epoch 36/200\n",
            "9/9 [==============================] - 0s 3ms/step - loss: 0.1658 - accuracy: 0.9556\n",
            "Epoch 37/200\n",
            "9/9 [==============================] - 0s 3ms/step - loss: 0.2272 - accuracy: 0.9333\n",
            "Epoch 38/200\n",
            "9/9 [==============================] - 0s 3ms/step - loss: 0.2366 - accuracy: 0.9333\n",
            "Epoch 39/200\n",
            "9/9 [==============================] - 0s 3ms/step - loss: 0.3944 - accuracy: 0.9333\n",
            "Epoch 40/200\n",
            "9/9 [==============================] - 0s 2ms/step - loss: 0.1618 - accuracy: 0.9778\n",
            "Epoch 41/200\n",
            "9/9 [==============================] - 0s 3ms/step - loss: 0.1398 - accuracy: 1.0000\n",
            "Epoch 42/200\n",
            "9/9 [==============================] - 0s 3ms/step - loss: 0.1483 - accuracy: 1.0000\n",
            "Epoch 43/200\n",
            "9/9 [==============================] - 0s 2ms/step - loss: 0.0879 - accuracy: 1.0000\n",
            "Epoch 44/200\n",
            "9/9 [==============================] - 0s 2ms/step - loss: 0.0684 - accuracy: 1.0000\n",
            "Epoch 45/200\n",
            "9/9 [==============================] - 0s 3ms/step - loss: 0.1825 - accuracy: 0.9333\n",
            "Epoch 46/200\n",
            "9/9 [==============================] - 0s 2ms/step - loss: 0.1635 - accuracy: 0.9556\n",
            "Epoch 47/200\n",
            "9/9 [==============================] - 0s 3ms/step - loss: 0.0858 - accuracy: 1.0000\n",
            "Epoch 48/200\n",
            "9/9 [==============================] - 0s 2ms/step - loss: 0.1716 - accuracy: 0.9778\n",
            "Epoch 49/200\n",
            "9/9 [==============================] - 0s 2ms/step - loss: 0.1592 - accuracy: 0.9556\n",
            "Epoch 50/200\n",
            "9/9 [==============================] - 0s 2ms/step - loss: 0.1146 - accuracy: 0.9556\n",
            "Epoch 51/200\n",
            "9/9 [==============================] - 0s 2ms/step - loss: 0.1178 - accuracy: 0.9778\n",
            "Epoch 52/200\n",
            "9/9 [==============================] - 0s 2ms/step - loss: 0.1534 - accuracy: 0.9556\n",
            "Epoch 53/200\n",
            "9/9 [==============================] - 0s 2ms/step - loss: 0.2063 - accuracy: 0.9556\n",
            "Epoch 54/200\n",
            "9/9 [==============================] - 0s 2ms/step - loss: 0.0951 - accuracy: 0.9778\n",
            "Epoch 55/200\n",
            "9/9 [==============================] - 0s 2ms/step - loss: 0.0891 - accuracy: 1.0000\n",
            "Epoch 56/200\n",
            "9/9 [==============================] - 0s 2ms/step - loss: 0.1435 - accuracy: 0.9778\n",
            "Epoch 57/200\n",
            "9/9 [==============================] - 0s 2ms/step - loss: 0.0782 - accuracy: 1.0000\n",
            "Epoch 58/200\n",
            "9/9 [==============================] - 0s 2ms/step - loss: 0.1537 - accuracy: 0.9333\n",
            "Epoch 59/200\n",
            "9/9 [==============================] - 0s 2ms/step - loss: 0.0735 - accuracy: 0.9778\n",
            "Epoch 60/200\n",
            "9/9 [==============================] - 0s 2ms/step - loss: 0.0516 - accuracy: 0.9778\n",
            "Epoch 61/200\n",
            "9/9 [==============================] - 0s 2ms/step - loss: 0.0579 - accuracy: 1.0000\n",
            "Epoch 62/200\n",
            "9/9 [==============================] - 0s 1ms/step - loss: 0.1786 - accuracy: 0.9556\n",
            "Epoch 63/200\n",
            "9/9 [==============================] - 0s 2ms/step - loss: 0.0684 - accuracy: 1.0000\n",
            "Epoch 64/200\n",
            "9/9 [==============================] - 0s 2ms/step - loss: 0.1732 - accuracy: 0.9556\n",
            "Epoch 65/200\n",
            "9/9 [==============================] - 0s 2ms/step - loss: 0.0685 - accuracy: 1.0000\n",
            "Epoch 66/200\n",
            "9/9 [==============================] - 0s 2ms/step - loss: 0.0574 - accuracy: 1.0000\n",
            "Epoch 67/200\n",
            "9/9 [==============================] - 0s 2ms/step - loss: 0.1008 - accuracy: 0.9556\n",
            "Epoch 68/200\n",
            "9/9 [==============================] - 0s 2ms/step - loss: 0.0513 - accuracy: 0.9778\n",
            "Epoch 69/200\n",
            "9/9 [==============================] - 0s 3ms/step - loss: 0.0817 - accuracy: 1.0000\n",
            "Epoch 70/200\n",
            "9/9 [==============================] - 0s 3ms/step - loss: 0.0531 - accuracy: 1.0000\n",
            "Epoch 71/200\n",
            "9/9 [==============================] - 0s 3ms/step - loss: 0.0798 - accuracy: 1.0000\n",
            "Epoch 72/200\n",
            "9/9 [==============================] - 0s 2ms/step - loss: 0.1433 - accuracy: 0.9556\n",
            "Epoch 73/200\n",
            "9/9 [==============================] - 0s 2ms/step - loss: 0.0447 - accuracy: 1.0000\n",
            "Epoch 74/200\n",
            "9/9 [==============================] - 0s 4ms/step - loss: 0.1091 - accuracy: 0.9556\n",
            "Epoch 75/200\n",
            "9/9 [==============================] - 0s 3ms/step - loss: 0.0358 - accuracy: 1.0000\n",
            "Epoch 76/200\n",
            "9/9 [==============================] - 0s 2ms/step - loss: 0.0936 - accuracy: 0.9556\n",
            "Epoch 77/200\n",
            "9/9 [==============================] - 0s 2ms/step - loss: 0.0811 - accuracy: 0.9778\n",
            "Epoch 78/200\n",
            "9/9 [==============================] - 0s 2ms/step - loss: 0.0132 - accuracy: 1.0000\n",
            "Epoch 79/200\n",
            "9/9 [==============================] - 0s 2ms/step - loss: 0.0365 - accuracy: 1.0000\n",
            "Epoch 80/200\n",
            "9/9 [==============================] - 0s 3ms/step - loss: 0.0312 - accuracy: 1.0000\n",
            "Epoch 81/200\n",
            "9/9 [==============================] - 0s 2ms/step - loss: 0.0594 - accuracy: 0.9778\n",
            "Epoch 82/200\n",
            "9/9 [==============================] - 0s 2ms/step - loss: 0.0791 - accuracy: 0.9778\n",
            "Epoch 83/200\n",
            "9/9 [==============================] - 0s 2ms/step - loss: 0.0267 - accuracy: 1.0000\n",
            "Epoch 84/200\n",
            "9/9 [==============================] - 0s 3ms/step - loss: 0.0640 - accuracy: 1.0000\n",
            "Epoch 85/200\n",
            "9/9 [==============================] - 0s 4ms/step - loss: 0.0221 - accuracy: 1.0000\n",
            "Epoch 86/200\n",
            "9/9 [==============================] - 0s 4ms/step - loss: 0.0859 - accuracy: 0.9556\n",
            "Epoch 87/200\n",
            "9/9 [==============================] - 0s 5ms/step - loss: 0.1241 - accuracy: 0.9556\n",
            "Epoch 88/200\n",
            "9/9 [==============================] - 0s 4ms/step - loss: 0.0326 - accuracy: 1.0000\n",
            "Epoch 89/200\n",
            "9/9 [==============================] - 0s 4ms/step - loss: 0.0555 - accuracy: 0.9778\n",
            "Epoch 90/200\n",
            "9/9 [==============================] - 0s 2ms/step - loss: 0.0986 - accuracy: 0.9778\n",
            "Epoch 91/200\n",
            "9/9 [==============================] - 0s 3ms/step - loss: 0.0849 - accuracy: 0.9778\n",
            "Epoch 92/200\n",
            "9/9 [==============================] - 0s 2ms/step - loss: 0.0174 - accuracy: 1.0000\n",
            "Epoch 93/200\n",
            "9/9 [==============================] - 0s 2ms/step - loss: 0.0433 - accuracy: 1.0000\n",
            "Epoch 94/200\n",
            "9/9 [==============================] - 0s 2ms/step - loss: 0.0456 - accuracy: 1.0000\n",
            "Epoch 95/200\n",
            "9/9 [==============================] - 0s 2ms/step - loss: 0.0299 - accuracy: 1.0000\n",
            "Epoch 96/200\n",
            "9/9 [==============================] - 0s 3ms/step - loss: 0.1020 - accuracy: 0.9778\n",
            "Epoch 97/200\n",
            "9/9 [==============================] - 0s 3ms/step - loss: 0.0538 - accuracy: 0.9778\n",
            "Epoch 98/200\n",
            "9/9 [==============================] - 0s 3ms/step - loss: 0.0839 - accuracy: 0.9778\n",
            "Epoch 99/200\n",
            "9/9 [==============================] - 0s 2ms/step - loss: 0.0895 - accuracy: 0.9778\n",
            "Epoch 100/200\n",
            "9/9 [==============================] - 0s 2ms/step - loss: 0.1418 - accuracy: 0.9556\n",
            "Epoch 101/200\n",
            "9/9 [==============================] - 0s 2ms/step - loss: 0.0667 - accuracy: 0.9778\n",
            "Epoch 102/200\n",
            "9/9 [==============================] - 0s 3ms/step - loss: 0.0617 - accuracy: 0.9778\n",
            "Epoch 103/200\n",
            "9/9 [==============================] - 0s 4ms/step - loss: 0.0579 - accuracy: 0.9778\n",
            "Epoch 104/200\n",
            "9/9 [==============================] - 0s 2ms/step - loss: 0.0218 - accuracy: 1.0000\n",
            "Epoch 105/200\n",
            "9/9 [==============================] - 0s 2ms/step - loss: 0.0948 - accuracy: 0.9556\n",
            "Epoch 106/200\n",
            "9/9 [==============================] - 0s 3ms/step - loss: 0.0549 - accuracy: 1.0000\n",
            "Epoch 107/200\n",
            "9/9 [==============================] - 0s 3ms/step - loss: 0.0432 - accuracy: 1.0000\n",
            "Epoch 108/200\n",
            "9/9 [==============================] - 0s 3ms/step - loss: 0.0542 - accuracy: 0.9778\n",
            "Epoch 109/200\n",
            "9/9 [==============================] - 0s 2ms/step - loss: 0.0563 - accuracy: 1.0000\n",
            "Epoch 110/200\n",
            "9/9 [==============================] - 0s 2ms/step - loss: 0.0179 - accuracy: 1.0000\n",
            "Epoch 111/200\n",
            "9/9 [==============================] - 0s 2ms/step - loss: 0.0699 - accuracy: 0.9778\n",
            "Epoch 112/200\n",
            "9/9 [==============================] - 0s 3ms/step - loss: 0.0171 - accuracy: 1.0000\n",
            "Epoch 113/200\n",
            "9/9 [==============================] - 0s 8ms/step - loss: 0.0568 - accuracy: 0.9778\n",
            "Epoch 114/200\n",
            "9/9 [==============================] - 0s 2ms/step - loss: 0.0641 - accuracy: 0.9778\n",
            "Epoch 115/200\n",
            "9/9 [==============================] - 0s 2ms/step - loss: 0.0139 - accuracy: 1.0000\n",
            "Epoch 116/200\n",
            "9/9 [==============================] - 0s 2ms/step - loss: 0.0146 - accuracy: 1.0000\n",
            "Epoch 117/200\n",
            "9/9 [==============================] - 0s 2ms/step - loss: 0.0308 - accuracy: 1.0000\n",
            "Epoch 118/200\n",
            "9/9 [==============================] - 0s 2ms/step - loss: 0.0398 - accuracy: 1.0000\n",
            "Epoch 119/200\n",
            "9/9 [==============================] - 0s 2ms/step - loss: 0.0352 - accuracy: 0.9778\n",
            "Epoch 120/200\n",
            "9/9 [==============================] - 0s 2ms/step - loss: 0.0168 - accuracy: 1.0000\n",
            "Epoch 121/200\n",
            "9/9 [==============================] - 0s 2ms/step - loss: 0.0411 - accuracy: 1.0000\n",
            "Epoch 122/200\n",
            "9/9 [==============================] - 0s 3ms/step - loss: 0.0196 - accuracy: 1.0000\n",
            "Epoch 123/200\n",
            "9/9 [==============================] - 0s 3ms/step - loss: 0.0375 - accuracy: 0.9778\n",
            "Epoch 124/200\n",
            "9/9 [==============================] - 0s 3ms/step - loss: 0.0205 - accuracy: 1.0000\n",
            "Epoch 125/200\n",
            "9/9 [==============================] - 0s 3ms/step - loss: 0.0175 - accuracy: 1.0000\n",
            "Epoch 126/200\n",
            "9/9 [==============================] - 0s 3ms/step - loss: 0.0402 - accuracy: 1.0000\n",
            "Epoch 127/200\n",
            "9/9 [==============================] - 0s 3ms/step - loss: 0.0505 - accuracy: 0.9778\n",
            "Epoch 128/200\n",
            "9/9 [==============================] - 0s 3ms/step - loss: 0.0068 - accuracy: 1.0000\n",
            "Epoch 129/200\n",
            "9/9 [==============================] - 0s 3ms/step - loss: 0.0645 - accuracy: 0.9778\n",
            "Epoch 130/200\n",
            "9/9 [==============================] - 0s 3ms/step - loss: 0.0205 - accuracy: 1.0000\n",
            "Epoch 131/200\n",
            "9/9 [==============================] - 0s 3ms/step - loss: 0.0603 - accuracy: 0.9778\n",
            "Epoch 132/200\n",
            "9/9 [==============================] - 0s 2ms/step - loss: 0.0182 - accuracy: 1.0000\n",
            "Epoch 133/200\n",
            "9/9 [==============================] - 0s 3ms/step - loss: 0.0996 - accuracy: 0.9778\n",
            "Epoch 134/200\n",
            "9/9 [==============================] - 0s 2ms/step - loss: 0.0136 - accuracy: 1.0000\n",
            "Epoch 135/200\n",
            "9/9 [==============================] - 0s 3ms/step - loss: 0.0269 - accuracy: 1.0000\n",
            "Epoch 136/200\n",
            "9/9 [==============================] - 0s 2ms/step - loss: 0.0075 - accuracy: 1.0000\n",
            "Epoch 137/200\n",
            "9/9 [==============================] - 0s 2ms/step - loss: 0.0128 - accuracy: 1.0000\n",
            "Epoch 138/200\n",
            "9/9 [==============================] - 0s 2ms/step - loss: 0.0144 - accuracy: 1.0000\n",
            "Epoch 139/200\n",
            "9/9 [==============================] - 0s 2ms/step - loss: 0.0162 - accuracy: 1.0000\n",
            "Epoch 140/200\n",
            "9/9 [==============================] - 0s 2ms/step - loss: 0.0485 - accuracy: 1.0000\n",
            "Epoch 141/200\n",
            "9/9 [==============================] - 0s 1ms/step - loss: 0.0105 - accuracy: 1.0000\n",
            "Epoch 142/200\n",
            "9/9 [==============================] - 0s 1ms/step - loss: 0.0487 - accuracy: 0.9778\n",
            "Epoch 143/200\n",
            "9/9 [==============================] - 0s 1ms/step - loss: 0.0249 - accuracy: 1.0000\n",
            "Epoch 144/200\n",
            "9/9 [==============================] - 0s 2ms/step - loss: 0.0113 - accuracy: 1.0000\n",
            "Epoch 145/200\n",
            "9/9 [==============================] - 0s 2ms/step - loss: 0.0425 - accuracy: 1.0000\n",
            "Epoch 146/200\n",
            "9/9 [==============================] - 0s 2ms/step - loss: 0.0219 - accuracy: 1.0000\n",
            "Epoch 147/200\n",
            "9/9 [==============================] - 0s 1ms/step - loss: 0.0559 - accuracy: 0.9778\n",
            "Epoch 148/200\n",
            "9/9 [==============================] - 0s 1ms/step - loss: 0.0205 - accuracy: 1.0000\n",
            "Epoch 149/200\n",
            "9/9 [==============================] - 0s 1ms/step - loss: 0.0287 - accuracy: 1.0000\n",
            "Epoch 150/200\n",
            "9/9 [==============================] - 0s 2ms/step - loss: 0.0086 - accuracy: 1.0000\n",
            "Epoch 151/200\n",
            "9/9 [==============================] - 0s 2ms/step - loss: 0.0158 - accuracy: 1.0000\n",
            "Epoch 152/200\n",
            "9/9 [==============================] - 0s 1ms/step - loss: 0.0137 - accuracy: 1.0000\n",
            "Epoch 153/200\n",
            "9/9 [==============================] - 0s 2ms/step - loss: 0.0591 - accuracy: 0.9778\n",
            "Epoch 154/200\n",
            "9/9 [==============================] - 0s 1ms/step - loss: 0.0164 - accuracy: 1.0000\n",
            "Epoch 155/200\n",
            "9/9 [==============================] - 0s 1ms/step - loss: 0.0677 - accuracy: 0.9778\n",
            "Epoch 156/200\n",
            "9/9 [==============================] - 0s 2ms/step - loss: 0.0805 - accuracy: 0.9778\n",
            "Epoch 157/200\n",
            "9/9 [==============================] - 0s 1ms/step - loss: 0.0059 - accuracy: 1.0000\n",
            "Epoch 158/200\n",
            "9/9 [==============================] - 0s 2ms/step - loss: 0.0334 - accuracy: 0.9778\n",
            "Epoch 159/200\n",
            "9/9 [==============================] - 0s 2ms/step - loss: 0.0116 - accuracy: 1.0000\n",
            "Epoch 160/200\n",
            "9/9 [==============================] - 0s 2ms/step - loss: 0.0547 - accuracy: 1.0000\n",
            "Epoch 161/200\n",
            "9/9 [==============================] - 0s 1ms/step - loss: 0.0077 - accuracy: 1.0000\n",
            "Epoch 162/200\n",
            "9/9 [==============================] - 0s 2ms/step - loss: 0.1032 - accuracy: 0.9778\n",
            "Epoch 163/200\n",
            "9/9 [==============================] - 0s 1ms/step - loss: 0.0398 - accuracy: 1.0000\n",
            "Epoch 164/200\n",
            "9/9 [==============================] - 0s 1ms/step - loss: 0.0897 - accuracy: 0.9556\n",
            "Epoch 165/200\n",
            "9/9 [==============================] - 0s 1ms/step - loss: 0.0084 - accuracy: 1.0000\n",
            "Epoch 166/200\n",
            "9/9 [==============================] - 0s 1ms/step - loss: 0.0337 - accuracy: 1.0000\n",
            "Epoch 167/200\n",
            "9/9 [==============================] - 0s 1ms/step - loss: 0.0096 - accuracy: 1.0000\n",
            "Epoch 168/200\n",
            "9/9 [==============================] - 0s 1ms/step - loss: 0.0275 - accuracy: 1.0000\n",
            "Epoch 169/200\n",
            "9/9 [==============================] - 0s 2ms/step - loss: 0.0396 - accuracy: 1.0000\n",
            "Epoch 170/200\n",
            "9/9 [==============================] - 0s 2ms/step - loss: 0.0254 - accuracy: 1.0000\n",
            "Epoch 171/200\n",
            "9/9 [==============================] - 0s 2ms/step - loss: 0.0164 - accuracy: 1.0000\n",
            "Epoch 172/200\n",
            "9/9 [==============================] - 0s 2ms/step - loss: 0.0173 - accuracy: 1.0000\n",
            "Epoch 173/200\n",
            "9/9 [==============================] - 0s 3ms/step - loss: 0.0223 - accuracy: 1.0000\n",
            "Epoch 174/200\n",
            "9/9 [==============================] - 0s 3ms/step - loss: 0.0067 - accuracy: 1.0000\n",
            "Epoch 175/200\n",
            "9/9 [==============================] - 0s 2ms/step - loss: 0.0505 - accuracy: 0.9778\n",
            "Epoch 176/200\n",
            "9/9 [==============================] - 0s 2ms/step - loss: 0.0255 - accuracy: 1.0000\n",
            "Epoch 177/200\n",
            "9/9 [==============================] - 0s 2ms/step - loss: 0.0268 - accuracy: 0.9778\n",
            "Epoch 178/200\n",
            "9/9 [==============================] - 0s 2ms/step - loss: 0.0215 - accuracy: 1.0000\n",
            "Epoch 179/200\n",
            "9/9 [==============================] - 0s 2ms/step - loss: 0.0325 - accuracy: 0.9778\n",
            "Epoch 180/200\n",
            "9/9 [==============================] - 0s 1ms/step - loss: 0.0127 - accuracy: 1.0000\n",
            "Epoch 181/200\n",
            "9/9 [==============================] - 0s 2ms/step - loss: 0.0435 - accuracy: 1.0000\n",
            "Epoch 182/200\n",
            "9/9 [==============================] - 0s 2ms/step - loss: 0.0212 - accuracy: 1.0000\n",
            "Epoch 183/200\n",
            "9/9 [==============================] - 0s 1ms/step - loss: 0.0874 - accuracy: 0.9778\n",
            "Epoch 184/200\n",
            "9/9 [==============================] - 0s 2ms/step - loss: 0.0127 - accuracy: 1.0000\n",
            "Epoch 185/200\n",
            "9/9 [==============================] - 0s 1ms/step - loss: 0.0098 - accuracy: 1.0000\n",
            "Epoch 186/200\n",
            "9/9 [==============================] - 0s 1ms/step - loss: 0.0210 - accuracy: 1.0000\n",
            "Epoch 187/200\n",
            "9/9 [==============================] - 0s 1ms/step - loss: 0.0083 - accuracy: 1.0000\n",
            "Epoch 188/200\n",
            "9/9 [==============================] - 0s 1ms/step - loss: 0.0143 - accuracy: 1.0000\n",
            "Epoch 189/200\n",
            "9/9 [==============================] - 0s 1ms/step - loss: 0.0251 - accuracy: 1.0000\n",
            "Epoch 190/200\n",
            "9/9 [==============================] - 0s 1ms/step - loss: 0.0597 - accuracy: 0.9778\n",
            "Epoch 191/200\n",
            "9/9 [==============================] - 0s 2ms/step - loss: 0.0207 - accuracy: 1.0000\n",
            "Epoch 192/200\n",
            "9/9 [==============================] - 0s 1ms/step - loss: 0.0097 - accuracy: 1.0000\n",
            "Epoch 193/200\n",
            "9/9 [==============================] - 0s 1ms/step - loss: 0.0183 - accuracy: 1.0000\n",
            "Epoch 194/200\n",
            "9/9 [==============================] - 0s 2ms/step - loss: 0.0049 - accuracy: 1.0000\n",
            "Epoch 195/200\n",
            "9/9 [==============================] - 0s 2ms/step - loss: 0.0036 - accuracy: 1.0000\n",
            "Epoch 196/200\n",
            "9/9 [==============================] - 0s 1ms/step - loss: 0.0707 - accuracy: 0.9778\n",
            "Epoch 197/200\n",
            "9/9 [==============================] - 0s 2ms/step - loss: 0.0092 - accuracy: 1.0000\n",
            "Epoch 198/200\n",
            "9/9 [==============================] - 0s 1ms/step - loss: 0.0454 - accuracy: 0.9778\n",
            "Epoch 199/200\n",
            "9/9 [==============================] - 0s 2ms/step - loss: 0.0147 - accuracy: 1.0000\n",
            "Epoch 200/200\n",
            "9/9 [==============================] - 0s 1ms/step - loss: 0.0162 - accuracy: 1.0000\n"
          ]
        },
        {
          "output_type": "execute_result",
          "data": {
            "text/plain": [
              "<keras.callbacks.History at 0x7faf19629d30>"
            ]
          },
          "metadata": {},
          "execution_count": 7
        }
      ],
      "metadata": {
        "colab": {
          "base_uri": "https://localhost:8080/"
        },
        "id": "g-WKwStLZTDp",
        "outputId": "ca01e338-6944-409c-f412-9d3c92e5a37c"
      }
    },
    {
      "cell_type": "markdown",
      "source": [
        "Functions to preprocess input"
      ],
      "metadata": {
        "id": "8oNxxwrWiibg"
      }
    },
    {
      "cell_type": "code",
      "execution_count": 8,
      "source": [
        "def get_words_from_input_sentence(sentence):\n",
        "    sentence_words = nltk.word_tokenize(sentence)\n",
        "    sentence_words = [lemma_function.lemmatize(word.lower()) for word in sentence_words]\n",
        "    return sentence_words\n",
        "\n",
        "def get_input_as_bag_of_words(sentence, words, show_details=True):\n",
        "    sentence_words = get_words_from_input_sentence(sentence)\n",
        "    bag = [0]*len(words)  \n",
        "    for s in sentence_words:\n",
        "        for i,w in enumerate(words):\n",
        "            if w == s: \n",
        "                # assign 1 if current word is in the vocabulary position\n",
        "                bag[i] = 1\n",
        "                if show_details:\n",
        "                    print (\"found in bag: %s\" % w)\n",
        "\n",
        "    return(np.array(bag))"
      ],
      "outputs": [],
      "metadata": {
        "id": "rPXEsxbeZVFF"
      }
    },
    {
      "cell_type": "markdown",
      "source": [
        "Taking input message and converting to bag of words"
      ],
      "metadata": {
        "id": "Qxkq0q_ik0jV"
      }
    },
    {
      "cell_type": "code",
      "execution_count": 9,
      "source": [
        "input_sentence = \"Which is the nearest pharmacy to me?\""
      ],
      "outputs": [],
      "metadata": {
        "id": "aPJpwvdelOX7"
      }
    },
    {
      "cell_type": "code",
      "execution_count": 10,
      "source": [
        "bag_of_words_input = get_input_as_bag_of_words(input_sentence, words)\n",
        "print (\"Input sentence as bag of words - \",bag_of_words_input)\n",
        "print (\"Possible output classes - \",classes)"
      ],
      "outputs": [
        {
          "output_type": "stream",
          "name": "stdout",
          "text": [
            "found in bag: which\n",
            "found in bag: is\n",
            "found in bag: pharmacy\n",
            "found in bag: to\n",
            "found in bag: me\n",
            "Input sentence as bag of words -  [0 0 0 0 0 0 0 0 0 0 0 0 0 0 0 0 0 0 0 0 0 0 0 0 0 0 0 0 0 0 0 0 0 0 0 0 0\n",
            " 0 0 0 1 0 0 0 0 0 0 0 0 1 0 0 0 0 0 0 0 0 1 0 0 0 0 0 0 0 0 0 0 0 0 0 0 0\n",
            " 0 0 0 1 0 0 0 0 1 0 0]\n",
            "Possible output classes -  ['adverse_drug', 'blood_pressure', 'blood_pressure_search', 'goodbye', 'greeting', 'hospital_search', 'options', 'pharmacy_search', 'thanks']\n"
          ]
        }
      ],
      "metadata": {
        "colab": {
          "base_uri": "https://localhost:8080/"
        },
        "id": "-Ty6UqVJZZsA",
        "outputId": "3a3256c7-0347-4ec6-c750-3181b9386bf3"
      }
    },
    {
      "cell_type": "markdown",
      "source": [
        "Predict output class using our model"
      ],
      "metadata": {
        "id": "e_0FO588k-KZ"
      }
    },
    {
      "cell_type": "code",
      "execution_count": 11,
      "source": [
        "inputvar = pd.DataFrame([bag_of_words_input], dtype=float, index=['input'])\n",
        "model_output = model.predict(inputvar)\n",
        "print(\"model output - \", model_output)"
      ],
      "outputs": [
        {
          "output_type": "stream",
          "name": "stdout",
          "text": [
            "model output -  [[1.5237112e-05 2.5038205e-05 7.9430347e-06 9.7650227e-06 1.1124955e-06\n",
            "  1.7185192e-06 5.9266840e-06 9.9992216e-01 1.1086969e-05]]\n"
          ]
        }
      ],
      "metadata": {
        "colab": {
          "base_uri": "https://localhost:8080/"
        },
        "id": "gyWzUPOiZbGC",
        "outputId": "ba9c5b21-a11b-495a-8a68-5f82dcb150c5"
      }
    },
    {
      "cell_type": "code",
      "execution_count": 12,
      "source": [
        "print(\"Input sentence - \", input_sentence)\n",
        "print(\"Output class for input - \", classes[model_output.argmax()])"
      ],
      "outputs": [
        {
          "output_type": "stream",
          "name": "stdout",
          "text": [
            "Input sentence -  Which is the nearest pharmacy to me?\n",
            "Output class for input -  pharmacy_search\n"
          ]
        }
      ],
      "metadata": {
        "colab": {
          "base_uri": "https://localhost:8080/"
        },
        "id": "8yRwEb2ZjLJa",
        "outputId": "ca6e39a4-b99a-4a70-8636-5ded430a4aa5"
      }
    },
    {
      "cell_type": "markdown",
      "source": [
        "Save model and data structures to pickle files"
      ],
      "metadata": {
        "id": "QHVjUeS7ozZX"
      }
    },
    {
      "cell_type": "code",
      "execution_count": 13,
      "source": [
        "pickle.dump(model, open(\"chatbot-model.pkl\", \"wb\"))"
      ],
      "outputs": [
        {
          "output_type": "stream",
          "name": "stderr",
          "text": [
            "2021-11-18 02:26:57.737643: W tensorflow/python/util/util.cc:368] Sets are not currently considered sequences, but this may change in the future, so consider avoiding using them.\n"
          ]
        },
        {
          "output_type": "stream",
          "name": "stdout",
          "text": [
            "INFO:tensorflow:Assets written to: ram://1331870f-7afe-4d9f-a2b0-4db93f0653b3/assets\n"
          ]
        }
      ],
      "metadata": {
        "colab": {
          "base_uri": "https://localhost:8080/"
        },
        "id": "pgThheOwZeiI",
        "outputId": "9389d7b1-80c2-430a-cce4-9d7d1c957751"
      }
    },
    {
      "cell_type": "code",
      "execution_count": 14,
      "source": [
        "pickle.dump( {'words':words, 'classes':classes, 'train_x':train_x, 'train_y':train_y}, open( \"chatbot-data.pkl\", \"wb\" ) )"
      ],
      "outputs": [],
      "metadata": {
        "id": "DEZkP5HHZgRh"
      }
    }
  ]
}